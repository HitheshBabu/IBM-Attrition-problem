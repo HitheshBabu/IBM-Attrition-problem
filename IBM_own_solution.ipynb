{
 "cells": [
  {
   "cell_type": "code",
   "execution_count": 102,
   "metadata": {},
   "outputs": [],
   "source": [
    "import pandas as pd\n",
    "import numpy as np\n",
    "import matplotlib.pyplot as plt\n",
    "%matplotlib inline\n",
    "import seaborn as sns"
   ]
  },
  {
   "cell_type": "code",
   "execution_count": 103,
   "metadata": {},
   "outputs": [
    {
     "data": {
      "text/html": [
       "<div>\n",
       "<style scoped>\n",
       "    .dataframe tbody tr th:only-of-type {\n",
       "        vertical-align: middle;\n",
       "    }\n",
       "\n",
       "    .dataframe tbody tr th {\n",
       "        vertical-align: top;\n",
       "    }\n",
       "\n",
       "    .dataframe thead th {\n",
       "        text-align: right;\n",
       "    }\n",
       "</style>\n",
       "<table border=\"1\" class=\"dataframe\">\n",
       "  <thead>\n",
       "    <tr style=\"text-align: right;\">\n",
       "      <th></th>\n",
       "      <th>Age</th>\n",
       "      <th>Attrition</th>\n",
       "      <th>Department</th>\n",
       "      <th>DistanceFromHome</th>\n",
       "      <th>Education</th>\n",
       "      <th>EducationField</th>\n",
       "      <th>EnvironmentSatisfaction</th>\n",
       "      <th>JobSatisfaction</th>\n",
       "      <th>MaritalStatus</th>\n",
       "      <th>MonthlyIncome</th>\n",
       "      <th>NumCompaniesWorked</th>\n",
       "      <th>WorkLifeBalance</th>\n",
       "      <th>YearsAtCompany</th>\n",
       "    </tr>\n",
       "  </thead>\n",
       "  <tbody>\n",
       "    <tr>\n",
       "      <th>0</th>\n",
       "      <td>41</td>\n",
       "      <td>Yes</td>\n",
       "      <td>Sales</td>\n",
       "      <td>1</td>\n",
       "      <td>2</td>\n",
       "      <td>Life Sciences</td>\n",
       "      <td>2</td>\n",
       "      <td>4</td>\n",
       "      <td>Single</td>\n",
       "      <td>5993</td>\n",
       "      <td>8</td>\n",
       "      <td>1</td>\n",
       "      <td>6</td>\n",
       "    </tr>\n",
       "    <tr>\n",
       "      <th>1</th>\n",
       "      <td>49</td>\n",
       "      <td>No</td>\n",
       "      <td>Research &amp; Development</td>\n",
       "      <td>8</td>\n",
       "      <td>1</td>\n",
       "      <td>Life Sciences</td>\n",
       "      <td>3</td>\n",
       "      <td>2</td>\n",
       "      <td>Married</td>\n",
       "      <td>5130</td>\n",
       "      <td>1</td>\n",
       "      <td>3</td>\n",
       "      <td>10</td>\n",
       "    </tr>\n",
       "    <tr>\n",
       "      <th>2</th>\n",
       "      <td>37</td>\n",
       "      <td>Yes</td>\n",
       "      <td>Research &amp; Development</td>\n",
       "      <td>2</td>\n",
       "      <td>2</td>\n",
       "      <td>Other</td>\n",
       "      <td>4</td>\n",
       "      <td>3</td>\n",
       "      <td>Single</td>\n",
       "      <td>2090</td>\n",
       "      <td>6</td>\n",
       "      <td>3</td>\n",
       "      <td>0</td>\n",
       "    </tr>\n",
       "    <tr>\n",
       "      <th>3</th>\n",
       "      <td>33</td>\n",
       "      <td>No</td>\n",
       "      <td>Research &amp; Development</td>\n",
       "      <td>3</td>\n",
       "      <td>4</td>\n",
       "      <td>Life Sciences</td>\n",
       "      <td>4</td>\n",
       "      <td>3</td>\n",
       "      <td>Married</td>\n",
       "      <td>2909</td>\n",
       "      <td>1</td>\n",
       "      <td>3</td>\n",
       "      <td>8</td>\n",
       "    </tr>\n",
       "    <tr>\n",
       "      <th>4</th>\n",
       "      <td>27</td>\n",
       "      <td>No</td>\n",
       "      <td>Research &amp; Development</td>\n",
       "      <td>2</td>\n",
       "      <td>1</td>\n",
       "      <td>Medical</td>\n",
       "      <td>1</td>\n",
       "      <td>2</td>\n",
       "      <td>Married</td>\n",
       "      <td>3468</td>\n",
       "      <td>9</td>\n",
       "      <td>3</td>\n",
       "      <td>2</td>\n",
       "    </tr>\n",
       "  </tbody>\n",
       "</table>\n",
       "</div>"
      ],
      "text/plain": [
       "   Age Attrition              Department  DistanceFromHome  Education  \\\n",
       "0   41       Yes                   Sales                 1          2   \n",
       "1   49        No  Research & Development                 8          1   \n",
       "2   37       Yes  Research & Development                 2          2   \n",
       "3   33        No  Research & Development                 3          4   \n",
       "4   27        No  Research & Development                 2          1   \n",
       "\n",
       "  EducationField  EnvironmentSatisfaction  JobSatisfaction MaritalStatus  \\\n",
       "0  Life Sciences                        2                4        Single   \n",
       "1  Life Sciences                        3                2       Married   \n",
       "2          Other                        4                3        Single   \n",
       "3  Life Sciences                        4                3       Married   \n",
       "4        Medical                        1                2       Married   \n",
       "\n",
       "   MonthlyIncome  NumCompaniesWorked  WorkLifeBalance  YearsAtCompany  \n",
       "0           5993                   8                1               6  \n",
       "1           5130                   1                3              10  \n",
       "2           2090                   6                3               0  \n",
       "3           2909                   1                3               8  \n",
       "4           3468                   9                3               2  "
      ]
     },
     "execution_count": 103,
     "metadata": {},
     "output_type": "execute_result"
    }
   ],
   "source": [
    "dataset = pd.read_csv(\"IBM Attrition Data.csv\")\n",
    "dataset.head()"
   ]
  },
  {
   "cell_type": "code",
   "execution_count": 104,
   "metadata": {},
   "outputs": [
    {
     "data": {
      "text/plain": [
       "array(['Age', 'Attrition', 'Department', 'DistanceFromHome', 'Education',\n",
       "       'EducationField', 'EnvironmentSatisfaction', 'JobSatisfaction',\n",
       "       'MaritalStatus', 'MonthlyIncome', 'NumCompaniesWorked',\n",
       "       'WorkLifeBalance', 'YearsAtCompany'], dtype=object)"
      ]
     },
     "execution_count": 104,
     "metadata": {},
     "output_type": "execute_result"
    }
   ],
   "source": [
    "column_names = dataset.columns.values\n",
    "column_names\n"
   ]
  },
  {
   "cell_type": "code",
   "execution_count": 105,
   "metadata": {},
   "outputs": [
    {
     "data": {
      "image/png": "[encoded data removed]",
      "text/plain": [
       "<Figure size 504x504 with 1 Axes>"
      ]
     },
     "metadata": {
      "needs_background": "light"
     },
     "output_type": "display_data"
    }
   ],
   "source": [
    "#Histogram\n",
    "plt.figure(figsize=(7,7))\n",
    "dataset['Age'].hist(bins=70)\n",
    "plt.title('Age Distibution')\n",
    "plt.xlabel('Age')\n",
    "plt.ylabel('Number of Employees')\n",
    "plt.show()"
   ]
  },
  {
   "cell_type": "code",
   "execution_count": 106,
   "metadata": {},
   "outputs": [
    {
     "data": {
      "image/png": "[encoded data removed]",
      "text/plain": [
       "<Figure size 720x720 with 1 Axes>"
      ]
     },
     "metadata": {
      "needs_background": "light"
     },
     "output_type": "display_data"
    }
   ],
   "source": [
    "#attrition by age, scatter plot\n",
    "plt.figure(figsize=(10,10))\n",
    "plt.scatter(dataset.Attrition,dataset.Age,alpha=0.55)\n",
    "plt.title('Attrittion by Age')\n",
    "plt.ylabel(\"Age\")\n",
    "plt.grid(b=True, which='major',axis='y')\n",
    "plt.show()\n"
   ]
  },
  {
   "cell_type": "code",
   "execution_count": 107,
   "metadata": {},
   "outputs": [
    {
     "data": {
      "image/png": "[encoded data removed]",
      "text/plain": [
       "<Figure size 576x432 with 1 Axes>"
      ]
     },
     "metadata": {
      "needs_background": "light"
     },
     "output_type": "display_data"
    }
   ],
   "source": [
    "#Attrition breakdown\n",
    "plt.figure(figsize=(8,6))\n",
    "dataset.Attrition.value_counts().plot(kind='barh',color='green',alpha=.5)\n",
    "plt.title(\"Attrition breakdown \")\n",
    "plt.show()"
   ]
  },
  {
   "cell_type": "code",
   "execution_count": 108,
   "metadata": {},
   "outputs": [
    {
     "data": {
      "image/png": "[encoded data removed]",
      "text/plain": [
       "<Figure size 720x576 with 1 Axes>"
      ]
     },
     "metadata": {
      "needs_background": "light"
     },
     "output_type": "display_data"
    }
   ],
   "source": [
    "plt.figure(figsize=(10,8))\n",
    "dataset.EducationField.value_counts().plot(kind='barh',color='b',alpha=.5)\n",
    "plt.title(\"Education Field Distribution\")\n",
    "plt.show()"
   ]
  },
  {
   "cell_type": "code",
   "execution_count": 109,
   "metadata": {},
   "outputs": [
    {
     "data": {
      "image/png": "[encoded data removed]",
      "text/plain": [
       "<Figure size 720x576 with 1 Axes>"
      ]
     },
     "metadata": {
      "needs_background": "light"
     },
     "output_type": "display_data"
    }
   ],
   "source": [
    "plt.figure(figsize=(10,8))\n",
    "dataset.MaritalStatus.value_counts().plot(kind='bar',color='y',alpha=.65)\n",
    "plt.title(\"Martial Status\")\n",
    "plt.show()"
   ]
  },
  {
   "cell_type": "code",
   "execution_count": 110,
   "metadata": {},
   "outputs": [
    {
     "data": {
      "text/html": [
       "<div>\n",
       "<style scoped>\n",
       "    .dataframe tbody tr th:only-of-type {\n",
       "        vertical-align: middle;\n",
       "    }\n",
       "\n",
       "    .dataframe tbody tr th {\n",
       "        vertical-align: top;\n",
       "    }\n",
       "\n",
       "    .dataframe thead th {\n",
       "        text-align: right;\n",
       "    }\n",
       "</style>\n",
       "<table border=\"1\" class=\"dataframe\">\n",
       "  <thead>\n",
       "    <tr style=\"text-align: right;\">\n",
       "      <th></th>\n",
       "      <th>Age</th>\n",
       "      <th>DistanceFromHome</th>\n",
       "      <th>Education</th>\n",
       "      <th>EnvironmentSatisfaction</th>\n",
       "      <th>JobSatisfaction</th>\n",
       "      <th>MonthlyIncome</th>\n",
       "      <th>NumCompaniesWorked</th>\n",
       "      <th>WorkLifeBalance</th>\n",
       "      <th>YearsAtCompany</th>\n",
       "    </tr>\n",
       "  </thead>\n",
       "  <tbody>\n",
       "    <tr>\n",
       "      <th>count</th>\n",
       "      <td>1470.000000</td>\n",
       "      <td>1470.000000</td>\n",
       "      <td>1470.000000</td>\n",
       "      <td>1470.000000</td>\n",
       "      <td>1470.000000</td>\n",
       "      <td>1470.000000</td>\n",
       "      <td>1470.000000</td>\n",
       "      <td>1470.000000</td>\n",
       "      <td>1470.000000</td>\n",
       "    </tr>\n",
       "    <tr>\n",
       "      <th>mean</th>\n",
       "      <td>36.923810</td>\n",
       "      <td>9.192517</td>\n",
       "      <td>2.912925</td>\n",
       "      <td>2.721769</td>\n",
       "      <td>2.728571</td>\n",
       "      <td>6502.931293</td>\n",
       "      <td>2.693197</td>\n",
       "      <td>2.761224</td>\n",
       "      <td>7.008163</td>\n",
       "    </tr>\n",
       "    <tr>\n",
       "      <th>std</th>\n",
       "      <td>9.135373</td>\n",
       "      <td>8.106864</td>\n",
       "      <td>1.024165</td>\n",
       "      <td>1.093082</td>\n",
       "      <td>1.102846</td>\n",
       "      <td>4707.956783</td>\n",
       "      <td>2.498009</td>\n",
       "      <td>0.706476</td>\n",
       "      <td>6.126525</td>\n",
       "    </tr>\n",
       "    <tr>\n",
       "      <th>min</th>\n",
       "      <td>18.000000</td>\n",
       "      <td>1.000000</td>\n",
       "      <td>1.000000</td>\n",
       "      <td>1.000000</td>\n",
       "      <td>1.000000</td>\n",
       "      <td>1009.000000</td>\n",
       "      <td>0.000000</td>\n",
       "      <td>1.000000</td>\n",
       "      <td>0.000000</td>\n",
       "    </tr>\n",
       "    <tr>\n",
       "      <th>25%</th>\n",
       "      <td>30.000000</td>\n",
       "      <td>2.000000</td>\n",
       "      <td>2.000000</td>\n",
       "      <td>2.000000</td>\n",
       "      <td>2.000000</td>\n",
       "      <td>2911.000000</td>\n",
       "      <td>1.000000</td>\n",
       "      <td>2.000000</td>\n",
       "      <td>3.000000</td>\n",
       "    </tr>\n",
       "    <tr>\n",
       "      <th>50%</th>\n",
       "      <td>36.000000</td>\n",
       "      <td>7.000000</td>\n",
       "      <td>3.000000</td>\n",
       "      <td>3.000000</td>\n",
       "      <td>3.000000</td>\n",
       "      <td>4919.000000</td>\n",
       "      <td>2.000000</td>\n",
       "      <td>3.000000</td>\n",
       "      <td>5.000000</td>\n",
       "    </tr>\n",
       "    <tr>\n",
       "      <th>75%</th>\n",
       "      <td>43.000000</td>\n",
       "      <td>14.000000</td>\n",
       "      <td>4.000000</td>\n",
       "      <td>4.000000</td>\n",
       "      <td>4.000000</td>\n",
       "      <td>8379.000000</td>\n",
       "      <td>4.000000</td>\n",
       "      <td>3.000000</td>\n",
       "      <td>9.000000</td>\n",
       "    </tr>\n",
       "    <tr>\n",
       "      <th>max</th>\n",
       "      <td>60.000000</td>\n",
       "      <td>29.000000</td>\n",
       "      <td>5.000000</td>\n",
       "      <td>4.000000</td>\n",
       "      <td>4.000000</td>\n",
       "      <td>19999.000000</td>\n",
       "      <td>9.000000</td>\n",
       "      <td>4.000000</td>\n",
       "      <td>40.000000</td>\n",
       "    </tr>\n",
       "  </tbody>\n",
       "</table>\n",
       "</div>"
      ],
      "text/plain": [
       "               Age  DistanceFromHome    Education  EnvironmentSatisfaction  \\\n",
       "count  1470.000000       1470.000000  1470.000000              1470.000000   \n",
       "mean     36.923810          9.192517     2.912925                 2.721769   \n",
       "std       9.135373          8.106864     1.024165                 1.093082   \n",
       "min      18.000000          1.000000     1.000000                 1.000000   \n",
       "25%      30.000000          2.000000     2.000000                 2.000000   \n",
       "50%      36.000000          7.000000     3.000000                 3.000000   \n",
       "75%      43.000000         14.000000     4.000000                 4.000000   \n",
       "max      60.000000         29.000000     5.000000                 4.000000   \n",
       "\n",
       "       JobSatisfaction  MonthlyIncome  NumCompaniesWorked  WorkLifeBalance  \\\n",
       "count      1470.000000    1470.000000         1470.000000      1470.000000   \n",
       "mean          2.728571    6502.931293            2.693197         2.761224   \n",
       "std           1.102846    4707.956783            2.498009         0.706476   \n",
       "min           1.000000    1009.000000            0.000000         1.000000   \n",
       "25%           2.000000    2911.000000            1.000000         2.000000   \n",
       "50%           3.000000    4919.000000            2.000000         3.000000   \n",
       "75%           4.000000    8379.000000            4.000000         3.000000   \n",
       "max           4.000000   19999.000000            9.000000         4.000000   \n",
       "\n",
       "       YearsAtCompany  \n",
       "count     1470.000000  \n",
       "mean         7.008163  \n",
       "std          6.126525  \n",
       "min          0.000000  \n",
       "25%          3.000000  \n",
       "50%          5.000000  \n",
       "75%          9.000000  \n",
       "max         40.000000  "
      ]
     },
     "execution_count": 110,
     "metadata": {},
     "output_type": "execute_result"
    }
   ],
   "source": [
    "dataset.describe()"
   ]
  },
  {
   "cell_type": "code",
   "execution_count": 111,
   "metadata": {},
   "outputs": [
    {
     "name": "stdout",
     "output_type": "stream",
     "text": [
      "<class 'pandas.core.frame.DataFrame'>\n",
      "RangeIndex: 1470 entries, 0 to 1469\n",
      "Data columns (total 13 columns):\n",
      " #   Column                   Non-Null Count  Dtype \n",
      "---  ------                   --------------  ----- \n",
      " 0   Age                      1470 non-null   int64 \n",
      " 1   Attrition                1470 non-null   object\n",
      " 2   Department               1470 non-null   object\n",
      " 3   DistanceFromHome         1470 non-null   int64 \n",
      " 4   Education                1470 non-null   int64 \n",
      " 5   EducationField           1470 non-null   object\n",
      " 6   EnvironmentSatisfaction  1470 non-null   int64 \n",
      " 7   JobSatisfaction          1470 non-null   int64 \n",
      " 8   MaritalStatus            1470 non-null   object\n",
      " 9   MonthlyIncome            1470 non-null   int64 \n",
      " 10  NumCompaniesWorked       1470 non-null   int64 \n",
      " 11  WorkLifeBalance          1470 non-null   int64 \n",
      " 12  YearsAtCompany           1470 non-null   int64 \n",
      "dtypes: int64(9), object(4)\n",
      "memory usage: 149.4+ KB\n"
     ]
    }
   ],
   "source": [
    "dataset.info()"
   ]
  },
  {
   "cell_type": "code",
   "execution_count": 112,
   "metadata": {},
   "outputs": [
    {
     "data": {
      "text/plain": [
       "Index(['Age', 'Attrition', 'Department', 'DistanceFromHome', 'Education',\n",
       "       'EducationField', 'EnvironmentSatisfaction', 'JobSatisfaction',\n",
       "       'MaritalStatus', 'MonthlyIncome', 'NumCompaniesWorked',\n",
       "       'WorkLifeBalance', 'YearsAtCompany'],\n",
       "      dtype='object')"
      ]
     },
     "execution_count": 112,
     "metadata": {},
     "output_type": "execute_result"
    }
   ],
   "source": [
    "dataset.columns"
   ]
  },
  {
   "cell_type": "code",
   "execution_count": 113,
   "metadata": {},
   "outputs": [
    {
     "data": {
      "text/plain": [
       "Age                           9.135373\n",
       "DistanceFromHome              8.106864\n",
       "Education                     1.024165\n",
       "EnvironmentSatisfaction       1.093082\n",
       "JobSatisfaction               1.102846\n",
       "MonthlyIncome              4707.956783\n",
       "NumCompaniesWorked            2.498009\n",
       "WorkLifeBalance               0.706476\n",
       "YearsAtCompany                6.126525\n",
       "dtype: float64"
      ]
     },
     "execution_count": 113,
     "metadata": {},
     "output_type": "execute_result"
    }
   ],
   "source": [
    "dataset.std()"
   ]
  },
  {
   "cell_type": "code",
   "execution_count": 114,
   "metadata": {},
   "outputs": [
    {
     "data": {
      "text/plain": [
       "No     1233\n",
       "Yes     237\n",
       "Name: Attrition, dtype: int64"
      ]
     },
     "execution_count": 114,
     "metadata": {},
     "output_type": "execute_result"
    }
   ],
   "source": [
    "dataset['Attrition'].value_counts()"
   ]
  },
  {
   "cell_type": "code",
   "execution_count": 115,
   "metadata": {},
   "outputs": [
    {
     "data": {
      "text/plain": [
       "dtype('O')"
      ]
     },
     "execution_count": 115,
     "metadata": {},
     "output_type": "execute_result"
    }
   ],
   "source": [
    "dataset['Attrition'].dtypes"
   ]
  },
  {
   "cell_type": "code",
   "execution_count": 116,
   "metadata": {},
   "outputs": [],
   "source": [
    "dataset['Attrition'].replace('Yes',1,inplace=True)\n",
    "dataset['Attrition'].replace('No',0,inplace=True)"
   ]
  },
  {
   "cell_type": "code",
   "execution_count": 117,
   "metadata": {},
   "outputs": [
    {
     "data": {
      "text/html": [
       "<div>\n",
       "<style scoped>\n",
       "    .dataframe tbody tr th:only-of-type {\n",
       "        vertical-align: middle;\n",
       "    }\n",
       "\n",
       "    .dataframe tbody tr th {\n",
       "        vertical-align: top;\n",
       "    }\n",
       "\n",
       "    .dataframe thead th {\n",
       "        text-align: right;\n",
       "    }\n",
       "</style>\n",
       "<table border=\"1\" class=\"dataframe\">\n",
       "  <thead>\n",
       "    <tr style=\"text-align: right;\">\n",
       "      <th></th>\n",
       "      <th>Age</th>\n",
       "      <th>Attrition</th>\n",
       "      <th>Department</th>\n",
       "      <th>DistanceFromHome</th>\n",
       "      <th>Education</th>\n",
       "      <th>EducationField</th>\n",
       "      <th>EnvironmentSatisfaction</th>\n",
       "      <th>JobSatisfaction</th>\n",
       "      <th>MaritalStatus</th>\n",
       "      <th>MonthlyIncome</th>\n",
       "      <th>NumCompaniesWorked</th>\n",
       "      <th>WorkLifeBalance</th>\n",
       "      <th>YearsAtCompany</th>\n",
       "    </tr>\n",
       "  </thead>\n",
       "  <tbody>\n",
       "    <tr>\n",
       "      <th>0</th>\n",
       "      <td>41</td>\n",
       "      <td>1</td>\n",
       "      <td>Sales</td>\n",
       "      <td>1</td>\n",
       "      <td>2</td>\n",
       "      <td>Life Sciences</td>\n",
       "      <td>2</td>\n",
       "      <td>4</td>\n",
       "      <td>Single</td>\n",
       "      <td>5993</td>\n",
       "      <td>8</td>\n",
       "      <td>1</td>\n",
       "      <td>6</td>\n",
       "    </tr>\n",
       "    <tr>\n",
       "      <th>1</th>\n",
       "      <td>49</td>\n",
       "      <td>0</td>\n",
       "      <td>Research &amp; Development</td>\n",
       "      <td>8</td>\n",
       "      <td>1</td>\n",
       "      <td>Life Sciences</td>\n",
       "      <td>3</td>\n",
       "      <td>2</td>\n",
       "      <td>Married</td>\n",
       "      <td>5130</td>\n",
       "      <td>1</td>\n",
       "      <td>3</td>\n",
       "      <td>10</td>\n",
       "    </tr>\n",
       "    <tr>\n",
       "      <th>2</th>\n",
       "      <td>37</td>\n",
       "      <td>1</td>\n",
       "      <td>Research &amp; Development</td>\n",
       "      <td>2</td>\n",
       "      <td>2</td>\n",
       "      <td>Other</td>\n",
       "      <td>4</td>\n",
       "      <td>3</td>\n",
       "      <td>Single</td>\n",
       "      <td>2090</td>\n",
       "      <td>6</td>\n",
       "      <td>3</td>\n",
       "      <td>0</td>\n",
       "    </tr>\n",
       "    <tr>\n",
       "      <th>3</th>\n",
       "      <td>33</td>\n",
       "      <td>0</td>\n",
       "      <td>Research &amp; Development</td>\n",
       "      <td>3</td>\n",
       "      <td>4</td>\n",
       "      <td>Life Sciences</td>\n",
       "      <td>4</td>\n",
       "      <td>3</td>\n",
       "      <td>Married</td>\n",
       "      <td>2909</td>\n",
       "      <td>1</td>\n",
       "      <td>3</td>\n",
       "      <td>8</td>\n",
       "    </tr>\n",
       "    <tr>\n",
       "      <th>4</th>\n",
       "      <td>27</td>\n",
       "      <td>0</td>\n",
       "      <td>Research &amp; Development</td>\n",
       "      <td>2</td>\n",
       "      <td>1</td>\n",
       "      <td>Medical</td>\n",
       "      <td>1</td>\n",
       "      <td>2</td>\n",
       "      <td>Married</td>\n",
       "      <td>3468</td>\n",
       "      <td>9</td>\n",
       "      <td>3</td>\n",
       "      <td>2</td>\n",
       "    </tr>\n",
       "  </tbody>\n",
       "</table>\n",
       "</div>"
      ],
      "text/plain": [
       "   Age  Attrition              Department  DistanceFromHome  Education  \\\n",
       "0   41          1                   Sales                 1          2   \n",
       "1   49          0  Research & Development                 8          1   \n",
       "2   37          1  Research & Development                 2          2   \n",
       "3   33          0  Research & Development                 3          4   \n",
       "4   27          0  Research & Development                 2          1   \n",
       "\n",
       "  EducationField  EnvironmentSatisfaction  JobSatisfaction MaritalStatus  \\\n",
       "0  Life Sciences                        2                4        Single   \n",
       "1  Life Sciences                        3                2       Married   \n",
       "2          Other                        4                3        Single   \n",
       "3  Life Sciences                        4                3       Married   \n",
       "4        Medical                        1                2       Married   \n",
       "\n",
       "   MonthlyIncome  NumCompaniesWorked  WorkLifeBalance  YearsAtCompany  \n",
       "0           5993                   8                1               6  \n",
       "1           5130                   1                3              10  \n",
       "2           2090                   6                3               0  \n",
       "3           2909                   1                3               8  \n",
       "4           3468                   9                3               2  "
      ]
     },
     "execution_count": 117,
     "metadata": {},
     "output_type": "execute_result"
    }
   ],
   "source": [
    "dataset.head()"
   ]
  },
  {
   "cell_type": "code",
   "execution_count": 118,
   "metadata": {},
   "outputs": [
    {
     "data": {
      "text/plain": [
       "0    1\n",
       "1    0\n",
       "2    1\n",
       "3    0\n",
       "4    0\n",
       "Name: Attrition, dtype: int64"
      ]
     },
     "execution_count": 118,
     "metadata": {},
     "output_type": "execute_result"
    }
   ],
   "source": [
    "#Linear Regression Model\n",
    "X = dataset.drop(['Attrition'],axis=1)\n",
    "X.head()\n",
    "Y = dataset['Attrition']\n",
    "Y.head()"
   ]
  },
  {
   "cell_type": "code",
   "execution_count": 119,
   "metadata": {},
   "outputs": [],
   "source": [
    "dataset['EducationField'].replace('Life Sciences',1,inplace=True)\n",
    "dataset['EducationField'].replace('Marketing',2,inplace=True)\n",
    "dataset['EducationField'].replace('Medical',3,inplace=True)\n",
    "dataset['EducationField'].replace('Other',4,inplace=True)\n",
    "dataset['EducationField'].replace('Technical Degree',5,inplace=True)\n",
    "dataset['EducationField'].replace('Human Resources',6,inplace=True)"
   ]
  },
  {
   "cell_type": "code",
   "execution_count": 120,
   "metadata": {},
   "outputs": [
    {
     "data": {
      "text/plain": [
       "1    606\n",
       "3    464\n",
       "2    159\n",
       "5    132\n",
       "4     82\n",
       "6     27\n",
       "Name: EducationField, dtype: int64"
      ]
     },
     "execution_count": 120,
     "metadata": {},
     "output_type": "execute_result"
    }
   ],
   "source": [
    "dataset['EducationField'].value_counts()"
   ]
  },
  {
   "cell_type": "code",
   "execution_count": 121,
   "metadata": {},
   "outputs": [
    {
     "data": {
      "text/plain": [
       "Research & Development    961\n",
       "Sales                     446\n",
       "Human Resources            63\n",
       "Name: Department, dtype: int64"
      ]
     },
     "execution_count": 121,
     "metadata": {},
     "output_type": "execute_result"
    }
   ],
   "source": [
    "dataset['Department'].value_counts()"
   ]
  },
  {
   "cell_type": "code",
   "execution_count": 122,
   "metadata": {},
   "outputs": [],
   "source": [
    "dataset['Department'].replace('Research & Development',1,inplace=True)\n",
    "dataset['Department'].replace('Sales',2,inplace=True)\n",
    "dataset['Department'].replace('Human Resources',3,inplace=True)"
   ]
  },
  {
   "cell_type": "code",
   "execution_count": 123,
   "metadata": {},
   "outputs": [
    {
     "data": {
      "text/plain": [
       "1    961\n",
       "2    446\n",
       "3     63\n",
       "Name: Department, dtype: int64"
      ]
     },
     "execution_count": 123,
     "metadata": {},
     "output_type": "execute_result"
    }
   ],
   "source": [
    "dataset['Department'].value_counts()\n"
   ]
  },
  {
   "cell_type": "code",
   "execution_count": 124,
   "metadata": {},
   "outputs": [
    {
     "data": {
      "text/plain": [
       "Married     673\n",
       "Single      470\n",
       "Divorced    327\n",
       "Name: MaritalStatus, dtype: int64"
      ]
     },
     "execution_count": 124,
     "metadata": {},
     "output_type": "execute_result"
    }
   ],
   "source": [
    "dataset['MaritalStatus'].value_counts()\n"
   ]
  },
  {
   "cell_type": "code",
   "execution_count": 125,
   "metadata": {},
   "outputs": [],
   "source": [
    "dataset['MaritalStatus'].replace('Married',1,inplace=True)\n",
    "dataset['MaritalStatus'].replace('Divorced',2,inplace=True)\n",
    "dataset['MaritalStatus'].replace('Single',3,inplace=True)"
   ]
  },
  {
   "cell_type": "code",
   "execution_count": 126,
   "metadata": {},
   "outputs": [
    {
     "data": {
      "text/plain": [
       "1    673\n",
       "3    470\n",
       "2    327\n",
       "Name: MaritalStatus, dtype: int64"
      ]
     },
     "execution_count": 126,
     "metadata": {},
     "output_type": "execute_result"
    }
   ],
   "source": [
    "dataset['MaritalStatus'].value_counts()"
   ]
  },
  {
   "cell_type": "code",
   "execution_count": 127,
   "metadata": {},
   "outputs": [
    {
     "data": {
      "text/plain": [
       "Age                        int64\n",
       "Attrition                  int64\n",
       "Department                 int64\n",
       "DistanceFromHome           int64\n",
       "Education                  int64\n",
       "EducationField             int64\n",
       "EnvironmentSatisfaction    int64\n",
       "JobSatisfaction            int64\n",
       "MaritalStatus              int64\n",
       "MonthlyIncome              int64\n",
       "NumCompaniesWorked         int64\n",
       "WorkLifeBalance            int64\n",
       "YearsAtCompany             int64\n",
       "dtype: object"
      ]
     },
     "execution_count": 127,
     "metadata": {},
     "output_type": "execute_result"
    }
   ],
   "source": [
    "x=dataset.select_dtypes(include=['int64'])\n",
    "x.dtypes"
   ]
  },
  {
   "cell_type": "code",
   "execution_count": 128,
   "metadata": {},
   "outputs": [
    {
     "data": {
      "text/html": [
       "<div>\n",
       "<style scoped>\n",
       "    .dataframe tbody tr th:only-of-type {\n",
       "        vertical-align: middle;\n",
       "    }\n",
       "\n",
       "    .dataframe tbody tr th {\n",
       "        vertical-align: top;\n",
       "    }\n",
       "\n",
       "    .dataframe thead th {\n",
       "        text-align: right;\n",
       "    }\n",
       "</style>\n",
       "<table border=\"1\" class=\"dataframe\">\n",
       "  <thead>\n",
       "    <tr style=\"text-align: right;\">\n",
       "      <th></th>\n",
       "      <th>Age</th>\n",
       "      <th>Attrition</th>\n",
       "      <th>Department</th>\n",
       "      <th>DistanceFromHome</th>\n",
       "      <th>Education</th>\n",
       "      <th>EducationField</th>\n",
       "      <th>EnvironmentSatisfaction</th>\n",
       "      <th>JobSatisfaction</th>\n",
       "      <th>MaritalStatus</th>\n",
       "      <th>MonthlyIncome</th>\n",
       "      <th>NumCompaniesWorked</th>\n",
       "      <th>WorkLifeBalance</th>\n",
       "      <th>YearsAtCompany</th>\n",
       "    </tr>\n",
       "  </thead>\n",
       "  <tbody>\n",
       "    <tr>\n",
       "      <th>0</th>\n",
       "      <td>41</td>\n",
       "      <td>1</td>\n",
       "      <td>2</td>\n",
       "      <td>1</td>\n",
       "      <td>2</td>\n",
       "      <td>1</td>\n",
       "      <td>2</td>\n",
       "      <td>4</td>\n",
       "      <td>3</td>\n",
       "      <td>5993</td>\n",
       "      <td>8</td>\n",
       "      <td>1</td>\n",
       "      <td>6</td>\n",
       "    </tr>\n",
       "    <tr>\n",
       "      <th>1</th>\n",
       "      <td>49</td>\n",
       "      <td>0</td>\n",
       "      <td>1</td>\n",
       "      <td>8</td>\n",
       "      <td>1</td>\n",
       "      <td>1</td>\n",
       "      <td>3</td>\n",
       "      <td>2</td>\n",
       "      <td>1</td>\n",
       "      <td>5130</td>\n",
       "      <td>1</td>\n",
       "      <td>3</td>\n",
       "      <td>10</td>\n",
       "    </tr>\n",
       "    <tr>\n",
       "      <th>2</th>\n",
       "      <td>37</td>\n",
       "      <td>1</td>\n",
       "      <td>1</td>\n",
       "      <td>2</td>\n",
       "      <td>2</td>\n",
       "      <td>4</td>\n",
       "      <td>4</td>\n",
       "      <td>3</td>\n",
       "      <td>3</td>\n",
       "      <td>2090</td>\n",
       "      <td>6</td>\n",
       "      <td>3</td>\n",
       "      <td>0</td>\n",
       "    </tr>\n",
       "    <tr>\n",
       "      <th>3</th>\n",
       "      <td>33</td>\n",
       "      <td>0</td>\n",
       "      <td>1</td>\n",
       "      <td>3</td>\n",
       "      <td>4</td>\n",
       "      <td>1</td>\n",
       "      <td>4</td>\n",
       "      <td>3</td>\n",
       "      <td>1</td>\n",
       "      <td>2909</td>\n",
       "      <td>1</td>\n",
       "      <td>3</td>\n",
       "      <td>8</td>\n",
       "    </tr>\n",
       "    <tr>\n",
       "      <th>4</th>\n",
       "      <td>27</td>\n",
       "      <td>0</td>\n",
       "      <td>1</td>\n",
       "      <td>2</td>\n",
       "      <td>1</td>\n",
       "      <td>3</td>\n",
       "      <td>1</td>\n",
       "      <td>2</td>\n",
       "      <td>1</td>\n",
       "      <td>3468</td>\n",
       "      <td>9</td>\n",
       "      <td>3</td>\n",
       "      <td>2</td>\n",
       "    </tr>\n",
       "  </tbody>\n",
       "</table>\n",
       "</div>"
      ],
      "text/plain": [
       "   Age  Attrition  Department  DistanceFromHome  Education  EducationField  \\\n",
       "0   41          1           2                 1          2               1   \n",
       "1   49          0           1                 8          1               1   \n",
       "2   37          1           1                 2          2               4   \n",
       "3   33          0           1                 3          4               1   \n",
       "4   27          0           1                 2          1               3   \n",
       "\n",
       "   EnvironmentSatisfaction  JobSatisfaction  MaritalStatus  MonthlyIncome  \\\n",
       "0                        2                4              3           5993   \n",
       "1                        3                2              1           5130   \n",
       "2                        4                3              3           2090   \n",
       "3                        4                3              1           2909   \n",
       "4                        1                2              1           3468   \n",
       "\n",
       "   NumCompaniesWorked  WorkLifeBalance  YearsAtCompany  \n",
       "0                   8                1               6  \n",
       "1                   1                3              10  \n",
       "2                   6                3               0  \n",
       "3                   1                3               8  \n",
       "4                   9                3               2  "
      ]
     },
     "execution_count": 128,
     "metadata": {},
     "output_type": "execute_result"
    }
   ],
   "source": [
    "dataset.head()"
   ]
  },
  {
   "cell_type": "code",
   "execution_count": 129,
   "metadata": {},
   "outputs": [
    {
     "data": {
      "text/plain": [
       "Index(['Age', 'Attrition', 'Department', 'DistanceFromHome', 'Education',\n",
       "       'EducationField', 'EnvironmentSatisfaction', 'JobSatisfaction',\n",
       "       'MaritalStatus', 'MonthlyIncome', 'NumCompaniesWorked',\n",
       "       'WorkLifeBalance', 'YearsAtCompany'],\n",
       "      dtype='object')"
      ]
     },
     "execution_count": 129,
     "metadata": {},
     "output_type": "execute_result"
    }
   ],
   "source": [
    "x.columns"
   ]
  },
  {
   "cell_type": "code",
   "execution_count": 130,
   "metadata": {},
   "outputs": [
    {
     "data": {
      "text/plain": [
       "0    1\n",
       "1    0\n",
       "2    1\n",
       "3    0\n",
       "4    0\n",
       "Name: Attrition, dtype: int64"
      ]
     },
     "execution_count": 130,
     "metadata": {},
     "output_type": "execute_result"
    }
   ],
   "source": [
    "y= dataset['Attrition']\n",
    "y.head()\n"
   ]
  },
  {
   "cell_type": "code",
   "execution_count": 131,
   "metadata": {},
   "outputs": [
    {
     "name": "stdout",
     "output_type": "stream",
     "text": [
      "Index(['Intercept', 'Age', 'Department', 'DistanceFromHome', 'Education',\n",
      "       'EducationField', 'YearsAtCompany'],\n",
      "      dtype='object')\n"
     ]
    }
   ],
   "source": [
    "from patsy import dmatrices\n",
    "y, x = dmatrices('Attrition ~ Age + Department + \\\n",
    "                  DistanceFromHome + Education + EducationField + YearsAtCompany',\n",
    "                  dataset, return_type=\"dataframe\")\n",
    "print (x.columns)"
   ]
  },
  {
   "cell_type": "code",
   "execution_count": 132,
   "metadata": {},
   "outputs": [],
   "source": [
    "y = np.ravel(y)"
   ]
  },
  {
   "cell_type": "code",
   "execution_count": 133,
   "metadata": {},
   "outputs": [
    {
     "name": "stderr",
     "output_type": "stream",
     "text": [
      "/usr/local/lib/python3.7/site-packages/sklearn/linear_model/_logistic.py:940: ConvergenceWarning: lbfgs failed to converge (status=1):\n",
      "STOP: TOTAL NO. of ITERATIONS REACHED LIMIT.\n",
      "\n",
      "Increase the number of iterations (max_iter) or scale the data as shown in:\n",
      "    https://scikit-learn.org/stable/modules/preprocessing.html\n",
      "Please also refer to the documentation for alternative solver options:\n",
      "    https://scikit-learn.org/stable/modules/linear_model.html#logistic-regression\n",
      "  extra_warning_msg=_LOGISTIC_SOLVER_CONVERGENCE_MSG)\n"
     ]
    },
    {
     "data": {
      "text/plain": [
       "0.8401360544217688"
      ]
     },
     "execution_count": 133,
     "metadata": {},
     "output_type": "execute_result"
    }
   ],
   "source": [
    "import sklearn\n",
    "from sklearn.linear_model import LogisticRegression\n",
    "model = LogisticRegression()\n",
    "model = model.fit(x,y)\n",
    "\n",
    "#accuracy\n",
    "model.score(x,y)"
   ]
  },
  {
   "cell_type": "code",
   "execution_count": 134,
   "metadata": {},
   "outputs": [
    {
     "data": {
      "text/plain": [
       "0.16122448979591836"
      ]
     },
     "execution_count": 134,
     "metadata": {},
     "output_type": "execute_result"
    }
   ],
   "source": [
    "y.mean()"
   ]
  },
  {
   "cell_type": "code",
   "execution_count": 140,
   "metadata": {},
   "outputs": [
    {
     "data": {
      "text/plain": [
       "LogisticRegression(C=1.0, class_weight=None, dual=False, fit_intercept=True,\n",
       "                   intercept_scaling=1, l1_ratio=None, max_iter=100,\n",
       "                   multi_class='auto', n_jobs=None, penalty='l2',\n",
       "                   random_state=None, solver='lbfgs', tol=0.0001, verbose=0,\n",
       "                   warm_start=False)"
      ]
     },
     "execution_count": 140,
     "metadata": {},
     "output_type": "execute_result"
    }
   ],
   "source": [
    "X_train,X_test,y_train,y_test = sklearn.model_selection.train_test_split(x,y,test_size=0.3,random_state=0)\n",
    "model2= LogisticRegression()\n",
    "model2.fit(X_train,y_train)"
   ]
  },
  {
   "cell_type": "code",
   "execution_count": 141,
   "metadata": {},
   "outputs": [
    {
     "name": "stdout",
     "output_type": "stream",
     "text": [
      "[0. 0. 0. 0. 0. 0. 0. 0. 0. 0. 0. 0. 0. 0. 0. 0. 0. 0. 0. 0. 0. 0. 0. 0.\n",
      " 0. 0. 0. 0. 0. 0. 0. 0. 0. 0. 0. 0. 0. 0. 0. 0. 0. 0. 0. 0. 0. 0. 0. 0.\n",
      " 0. 0. 0. 0. 0. 0. 0. 0. 0. 0. 0. 0. 0. 0. 0. 0. 0. 0. 0. 0. 0. 0. 0. 0.\n",
      " 0. 0. 0. 0. 0. 0. 0. 0. 0. 0. 0. 0. 0. 0. 0. 0. 0. 0. 0. 0. 0. 0. 0. 0.\n",
      " 0. 0. 0. 0. 0. 0. 0. 0. 0. 0. 0. 0. 0. 0. 0. 0. 0. 0. 0. 0. 0. 0. 0. 0.\n",
      " 0. 0. 0. 0. 0. 0. 0. 0. 0. 0. 0. 0. 0. 0. 0. 0. 0. 0. 0. 0. 0. 0. 0. 0.\n",
      " 0. 0. 0. 0. 0. 0. 0. 0. 0. 0. 0. 0. 0. 0. 0. 0. 0. 0. 0. 0. 0. 0. 0. 0.\n",
      " 0. 0. 0. 0. 0. 0. 0. 0. 0. 0. 0. 0. 0. 0. 0. 0. 0. 0. 0. 0. 0. 0. 0. 0.\n",
      " 0. 0. 0. 0. 0. 0. 0. 0. 0. 0. 0. 0. 0. 0. 0. 0. 0. 0. 0. 0. 0. 0. 0. 0.\n",
      " 0. 0. 0. 0. 0. 0. 0. 0. 0. 0. 0. 0. 0. 0. 0. 0. 0. 0. 0. 0. 0. 0. 0. 0.\n",
      " 0. 0. 0. 0. 0. 0. 0. 0. 0. 0. 0. 0. 0. 0. 0. 0. 0. 0. 0. 0. 0. 0. 0. 0.\n",
      " 0. 0. 0. 0. 0. 0. 0. 0. 0. 0. 0. 0. 0. 0. 0. 0. 0. 0. 0. 0. 0. 0. 0. 0.\n",
      " 0. 0. 0. 0. 0. 0. 0. 0. 0. 0. 0. 0. 0. 0. 0. 0. 0. 0. 0. 0. 0. 0. 0. 0.\n",
      " 0. 0. 0. 0. 0. 0. 0. 0. 0. 0. 0. 0. 0. 0. 0. 0. 0. 0. 0. 0. 0. 0. 0. 0.\n",
      " 0. 0. 0. 0. 0. 0. 0. 0. 0. 0. 0. 0. 0. 0. 0. 0. 0. 0. 0. 0. 0. 0. 0. 0.\n",
      " 0. 0. 0. 0. 0. 0. 0. 0. 0. 0. 0. 0. 0. 0. 0. 0. 0. 0. 0. 0. 0. 0. 0. 0.\n",
      " 0. 0. 0. 0. 0. 0. 0. 0. 0. 0. 0. 0. 0. 0. 0. 0. 0. 0. 0. 0. 0. 0. 0. 0.\n",
      " 0. 0. 0. 0. 0. 0. 0. 0. 0. 0. 0. 0. 0. 0. 0. 0. 0. 0. 0. 0. 0. 0. 0. 0.\n",
      " 0. 0. 0. 0. 0. 0. 0. 0. 0.]\n"
     ]
    }
   ],
   "source": [
    "predicted = model2.predict(X_test)\n",
    "print(predicted)"
   ]
  },
  {
   "cell_type": "code",
   "execution_count": 142,
   "metadata": {},
   "outputs": [
    {
     "name": "stdout",
     "output_type": "stream",
     "text": [
      "[[0.84469196 0.15530804]\n",
      " [0.79949042 0.20050958]\n",
      " [0.76130842 0.23869158]\n",
      " [0.8638509  0.1361491 ]\n",
      " [0.72607546 0.27392454]\n",
      " [0.78065821 0.21934179]\n",
      " [0.83783503 0.16216497]\n",
      " [0.87013276 0.12986724]\n",
      " [0.96312047 0.03687953]\n",
      " [0.93398266 0.06601734]\n",
      " [0.94802646 0.05197354]\n",
      " [0.82194876 0.17805124]\n",
      " [0.85830159 0.14169841]\n",
      " [0.86054706 0.13945294]\n",
      " [0.88119033 0.11880967]\n",
      " [0.88356488 0.11643512]\n",
      " [0.88184366 0.11815634]\n",
      " [0.77834968 0.22165032]\n",
      " [0.83283208 0.16716792]\n",
      " [0.90070266 0.09929734]\n",
      " [0.69686593 0.30313407]\n",
      " [0.94345312 0.05654688]\n",
      " [0.85925924 0.14074076]\n",
      " [0.82725526 0.17274474]\n",
      " [0.62934778 0.37065222]\n",
      " [0.83621182 0.16378818]\n",
      " [0.9140706  0.0859294 ]\n",
      " [0.92542149 0.07457851]\n",
      " [0.65532295 0.34467705]\n",
      " [0.8842608  0.1157392 ]\n",
      " [0.89611863 0.10388137]\n",
      " [0.80076011 0.19923989]\n",
      " [0.8585272  0.1414728 ]\n",
      " [0.95498982 0.04501018]\n",
      " [0.86499651 0.13500349]\n",
      " [0.85887288 0.14112712]\n",
      " [0.91426017 0.08573983]\n",
      " [0.7240781  0.2759219 ]\n",
      " [0.89614624 0.10385376]\n",
      " [0.79830192 0.20169808]\n",
      " [0.92644952 0.07355048]\n",
      " [0.80271479 0.19728521]\n",
      " [0.93305967 0.06694033]\n",
      " [0.92646694 0.07353306]\n",
      " [0.88864469 0.11135531]\n",
      " [0.84773997 0.15226003]\n",
      " [0.78040778 0.21959222]\n",
      " [0.84352612 0.15647388]\n",
      " [0.64920645 0.35079355]\n",
      " [0.75088046 0.24911954]\n",
      " [0.92540837 0.07459163]\n",
      " [0.80866867 0.19133133]\n",
      " [0.84466142 0.15533858]\n",
      " [0.87096428 0.12903572]\n",
      " [0.86717921 0.13282079]\n",
      " [0.82526769 0.17473231]\n",
      " [0.87237008 0.12762992]\n",
      " [0.86431382 0.13568618]\n",
      " [0.68846183 0.31153817]\n",
      " [0.84649554 0.15350446]\n",
      " [0.88359589 0.11640411]\n",
      " [0.68792592 0.31207408]\n",
      " [0.94207907 0.05792093]\n",
      " [0.8370614  0.1629386 ]\n",
      " [0.78357219 0.21642781]\n",
      " [0.89386062 0.10613938]\n",
      " [0.91281579 0.08718421]\n",
      " [0.83777819 0.16222181]\n",
      " [0.88751565 0.11248435]\n",
      " [0.65155052 0.34844948]\n",
      " [0.93484973 0.06515027]\n",
      " [0.71243542 0.28756458]\n",
      " [0.84990497 0.15009503]\n",
      " [0.83570933 0.16429067]\n",
      " [0.79294792 0.20705208]\n",
      " [0.70758537 0.29241463]\n",
      " [0.9336375  0.0663625 ]\n",
      " [0.95544353 0.04455647]\n",
      " [0.77245824 0.22754176]\n",
      " [0.90447667 0.09552333]\n",
      " [0.92283877 0.07716123]\n",
      " [0.82055871 0.17944129]\n",
      " [0.79858876 0.20141124]\n",
      " [0.76509198 0.23490802]\n",
      " [0.82997984 0.17002016]\n",
      " [0.74740341 0.25259659]\n",
      " [0.97615449 0.02384551]\n",
      " [0.94468709 0.05531291]\n",
      " [0.88190768 0.11809232]\n",
      " [0.78895321 0.21104679]\n",
      " [0.60289421 0.39710579]\n",
      " [0.80872757 0.19127243]\n",
      " [0.76509098 0.23490902]\n",
      " [0.86231086 0.13768914]\n",
      " [0.86308297 0.13691703]\n",
      " [0.79940817 0.20059183]\n",
      " [0.75151323 0.24848677]\n",
      " [0.63972298 0.36027702]\n",
      " [0.83265362 0.16734638]\n",
      " [0.87895908 0.12104092]\n",
      " [0.71677216 0.28322784]\n",
      " [0.75677432 0.24322568]\n",
      " [0.97870721 0.02129279]\n",
      " [0.91020913 0.08979087]\n",
      " [0.80221123 0.19778877]\n",
      " [0.92117695 0.07882305]\n",
      " [0.8926371  0.1073629 ]\n",
      " [0.72331677 0.27668323]\n",
      " [0.8939312  0.1060688 ]\n",
      " [0.7915803  0.2084197 ]\n",
      " [0.80187345 0.19812655]\n",
      " [0.92166011 0.07833989]\n",
      " [0.93487814 0.06512186]\n",
      " [0.82938093 0.17061907]\n",
      " [0.8035848  0.1964152 ]\n",
      " [0.9120199  0.0879801 ]\n",
      " [0.90072396 0.09927604]\n",
      " [0.83165764 0.16834236]\n",
      " [0.95230618 0.04769382]\n",
      " [0.90879046 0.09120954]\n",
      " [0.85143552 0.14856448]\n",
      " [0.85244708 0.14755292]\n",
      " [0.86237048 0.13762952]\n",
      " [0.75156608 0.24843392]\n",
      " [0.91458663 0.08541337]\n",
      " [0.96452252 0.03547748]\n",
      " [0.94238733 0.05761267]\n",
      " [0.80090252 0.19909748]\n",
      " [0.87592142 0.12407858]\n",
      " [0.81824129 0.18175871]\n",
      " [0.96969406 0.03030594]\n",
      " [0.88284265 0.11715735]\n",
      " [0.81506729 0.18493271]\n",
      " [0.81017967 0.18982033]\n",
      " [0.94730163 0.05269837]\n",
      " [0.95622757 0.04377243]\n",
      " [0.75655548 0.24344452]\n",
      " [0.93085536 0.06914464]\n",
      " [0.75792729 0.24207271]\n",
      " [0.83704772 0.16295228]\n",
      " [0.84474393 0.15525607]\n",
      " [0.89409065 0.10590935]\n",
      " [0.8151852  0.1848148 ]\n",
      " [0.89453414 0.10546586]\n",
      " [0.9235506  0.0764494 ]\n",
      " [0.91908682 0.08091318]\n",
      " [0.96423587 0.03576413]\n",
      " [0.95552508 0.04447492]\n",
      " [0.9234111  0.0765889 ]\n",
      " [0.68575267 0.31424733]\n",
      " [0.83248717 0.16751283]\n",
      " [0.81582018 0.18417982]\n",
      " [0.83034342 0.16965658]\n",
      " [0.96543884 0.03456116]\n",
      " [0.92728339 0.07271661]\n",
      " [0.94600977 0.05399023]\n",
      " [0.97176442 0.02823558]\n",
      " [0.81038167 0.18961833]\n",
      " [0.87016793 0.12983207]\n",
      " [0.84572334 0.15427666]\n",
      " [0.94603794 0.05396206]\n",
      " [0.92305643 0.07694357]\n",
      " [0.7449691  0.2550309 ]\n",
      " [0.73955212 0.26044788]\n",
      " [0.9533196  0.0466804 ]\n",
      " [0.864769   0.135231  ]\n",
      " [0.83812003 0.16187997]\n",
      " [0.76230396 0.23769604]\n",
      " [0.78186219 0.21813781]\n",
      " [0.9248861  0.0751139 ]\n",
      " [0.91792449 0.08207551]\n",
      " [0.93940759 0.06059241]\n",
      " [0.93075562 0.06924438]\n",
      " [0.66287122 0.33712878]\n",
      " [0.94417427 0.05582573]\n",
      " [0.73569903 0.26430097]\n",
      " [0.76399316 0.23600684]\n",
      " [0.93013636 0.06986364]\n",
      " [0.80042496 0.19957504]\n",
      " [0.86551982 0.13448018]\n",
      " [0.69470503 0.30529497]\n",
      " [0.89697093 0.10302907]\n",
      " [0.90701377 0.09298623]\n",
      " [0.8595657  0.1404343 ]\n",
      " [0.92615669 0.07384331]\n",
      " [0.70438439 0.29561561]\n",
      " [0.90176643 0.09823357]\n",
      " [0.84588364 0.15411636]\n",
      " [0.78106129 0.21893871]\n",
      " [0.57401822 0.42598178]\n",
      " [0.71909762 0.28090238]\n",
      " [0.69925919 0.30074081]\n",
      " [0.84767762 0.15232238]\n",
      " [0.8636164  0.1363836 ]\n",
      " [0.74464698 0.25535302]\n",
      " [0.90890612 0.09109388]\n",
      " [0.80837608 0.19162392]\n",
      " [0.92494361 0.07505639]\n",
      " [0.76972293 0.23027707]\n",
      " [0.87701451 0.12298549]\n",
      " [0.84787935 0.15212065]\n",
      " [0.80058947 0.19941053]\n",
      " [0.72250781 0.27749219]\n",
      " [0.856386   0.143614  ]\n",
      " [0.76625098 0.23374902]\n",
      " [0.78892329 0.21107671]\n",
      " [0.78978045 0.21021955]\n",
      " [0.91097947 0.08902053]\n",
      " [0.77636745 0.22363255]\n",
      " [0.89205741 0.10794259]\n",
      " [0.84719398 0.15280602]\n",
      " [0.75053719 0.24946281]\n",
      " [0.88393888 0.11606112]\n",
      " [0.71028266 0.28971734]\n",
      " [0.93232685 0.06767315]\n",
      " [0.8159624  0.1840376 ]\n",
      " [0.95629578 0.04370422]\n",
      " [0.82503491 0.17496509]\n",
      " [0.83650234 0.16349766]\n",
      " [0.80084689 0.19915311]\n",
      " [0.86993101 0.13006899]\n",
      " [0.70697708 0.29302292]\n",
      " [0.63532661 0.36467339]\n",
      " [0.98919978 0.01080022]\n",
      " [0.72810903 0.27189097]\n",
      " [0.91226356 0.08773644]\n",
      " [0.91796684 0.08203316]\n",
      " [0.74842197 0.25157803]\n",
      " [0.6503038  0.3496962 ]\n",
      " [0.79257108 0.20742892]\n",
      " [0.95121181 0.04878819]\n",
      " [0.87707515 0.12292485]\n",
      " [0.85565067 0.14434933]\n",
      " [0.91727838 0.08272162]\n",
      " [0.87348943 0.12651057]\n",
      " [0.79544183 0.20455817]\n",
      " [0.79603664 0.20396336]\n",
      " [0.90839523 0.09160477]\n",
      " [0.75238198 0.24761802]\n",
      " [0.94228419 0.05771581]\n",
      " [0.90457121 0.09542879]\n",
      " [0.75687383 0.24312617]\n",
      " [0.97868892 0.02131108]\n",
      " [0.84801862 0.15198138]\n",
      " [0.91775917 0.08224083]\n",
      " [0.81500205 0.18499795]\n",
      " [0.82581104 0.17418896]\n",
      " [0.87629336 0.12370664]\n",
      " [0.87424444 0.12575556]\n",
      " [0.86768604 0.13231396]\n",
      " [0.80976436 0.19023564]\n",
      " [0.89644143 0.10355857]\n",
      " [0.58432396 0.41567604]\n",
      " [0.88414983 0.11585017]\n",
      " [0.89348006 0.10651994]\n",
      " [0.86757121 0.13242879]\n",
      " [0.98192271 0.01807729]\n",
      " [0.76489972 0.23510028]\n",
      " [0.67439145 0.32560855]\n",
      " [0.81817163 0.18182837]\n",
      " [0.83157376 0.16842624]\n",
      " [0.83270046 0.16729954]\n",
      " [0.86816216 0.13183784]\n",
      " [0.77394781 0.22605219]\n",
      " [0.8535769  0.1464231 ]\n",
      " [0.90325406 0.09674594]\n",
      " [0.82862712 0.17137288]\n",
      " [0.80495874 0.19504126]\n",
      " [0.76004648 0.23995352]\n",
      " [0.86517702 0.13482298]\n",
      " [0.82129186 0.17870814]\n",
      " [0.85605047 0.14394953]\n",
      " [0.68680715 0.31319285]\n",
      " [0.89616766 0.10383234]\n",
      " [0.89560505 0.10439495]\n",
      " [0.92245056 0.07754944]\n",
      " [0.8261599  0.1738401 ]\n",
      " [0.88782911 0.11217089]\n",
      " [0.90720957 0.09279043]\n",
      " [0.7906044  0.2093956 ]\n",
      " [0.6951005  0.3048995 ]\n",
      " [0.84038709 0.15961291]\n",
      " [0.74292369 0.25707631]\n",
      " [0.86640381 0.13359619]\n",
      " [0.99199509 0.00800491]\n",
      " [0.85697185 0.14302815]\n",
      " [0.8753189  0.1246811 ]\n",
      " [0.8169514  0.1830486 ]\n",
      " [0.94048594 0.05951406]\n",
      " [0.85794145 0.14205855]\n",
      " [0.88374266 0.11625734]\n",
      " [0.82022789 0.17977211]\n",
      " [0.85891282 0.14108718]\n",
      " [0.86047274 0.13952726]\n",
      " [0.887123   0.112877  ]\n",
      " [0.82170757 0.17829243]\n",
      " [0.80947236 0.19052764]\n",
      " [0.8707512  0.1292488 ]\n",
      " [0.62918096 0.37081904]\n",
      " [0.93849645 0.06150355]\n",
      " [0.89467155 0.10532845]\n",
      " [0.71096534 0.28903466]\n",
      " [0.66631004 0.33368996]\n",
      " [0.87086355 0.12913645]\n",
      " [0.86062253 0.13937747]\n",
      " [0.97383289 0.02616711]\n",
      " [0.84870517 0.15129483]\n",
      " [0.58299141 0.41700859]\n",
      " [0.92587111 0.07412889]\n",
      " [0.77800867 0.22199133]\n",
      " [0.8602447  0.1397553 ]\n",
      " [0.8828826  0.1171174 ]\n",
      " [0.87402313 0.12597687]\n",
      " [0.84023345 0.15976655]\n",
      " [0.76142353 0.23857647]\n",
      " [0.79840362 0.20159638]\n",
      " [0.84687326 0.15312674]\n",
      " [0.80476801 0.19523199]\n",
      " [0.75257974 0.24742026]\n",
      " [0.88403607 0.11596393]\n",
      " [0.5162007  0.4837993 ]\n",
      " [0.91984493 0.08015507]\n",
      " [0.78598246 0.21401754]\n",
      " [0.64841548 0.35158452]\n",
      " [0.90855732 0.09144268]\n",
      " [0.93356172 0.06643828]\n",
      " [0.8738504  0.1261496 ]\n",
      " [0.88085793 0.11914207]\n",
      " [0.95418798 0.04581202]\n",
      " [0.89345444 0.10654556]\n",
      " [0.95319743 0.04680257]\n",
      " [0.8251718  0.1748282 ]\n",
      " [0.87268033 0.12731967]\n",
      " [0.81071815 0.18928185]\n",
      " [0.80928301 0.19071699]\n",
      " [0.9554293  0.0445707 ]\n",
      " [0.86429432 0.13570568]\n",
      " [0.9017419  0.0982581 ]\n",
      " [0.82880129 0.17119871]\n",
      " [0.83024744 0.16975256]\n",
      " [0.77167652 0.22832348]\n",
      " [0.81176982 0.18823018]\n",
      " [0.79611818 0.20388182]\n",
      " [0.81779345 0.18220655]\n",
      " [0.90923331 0.09076669]\n",
      " [0.91022958 0.08977042]\n",
      " [0.65735813 0.34264187]\n",
      " [0.99026916 0.00973084]\n",
      " [0.79608811 0.20391189]\n",
      " [0.78746652 0.21253348]\n",
      " [0.7205935  0.2794065 ]\n",
      " [0.64594782 0.35405218]\n",
      " [0.77535537 0.22464463]\n",
      " [0.84173763 0.15826237]\n",
      " [0.85662324 0.14337676]\n",
      " [0.87698368 0.12301632]\n",
      " [0.83768596 0.16231404]\n",
      " [0.82495077 0.17504923]\n",
      " [0.93047907 0.06952093]\n",
      " [0.82555529 0.17444471]\n",
      " [0.975988   0.024012  ]\n",
      " [0.89910331 0.10089669]\n",
      " [0.92274379 0.07725621]\n",
      " [0.84135447 0.15864553]\n",
      " [0.75563794 0.24436206]\n",
      " [0.94569318 0.05430682]\n",
      " [0.94553404 0.05446596]\n",
      " [0.77045869 0.22954131]\n",
      " [0.87331871 0.12668129]\n",
      " [0.79972831 0.20027169]\n",
      " [0.93571218 0.06428782]\n",
      " [0.8537635  0.1462365 ]\n",
      " [0.72672134 0.27327866]\n",
      " [0.90563494 0.09436506]\n",
      " [0.74244923 0.25755077]\n",
      " [0.93651949 0.06348051]\n",
      " [0.91423548 0.08576452]\n",
      " [0.89870479 0.10129521]\n",
      " [0.78734884 0.21265116]\n",
      " [0.93829108 0.06170892]\n",
      " [0.82448501 0.17551499]\n",
      " [0.89633151 0.10366849]\n",
      " [0.87485329 0.12514671]\n",
      " [0.78665258 0.21334742]\n",
      " [0.80368122 0.19631878]\n",
      " [0.57962461 0.42037539]\n",
      " [0.94747894 0.05252106]\n",
      " [0.75399565 0.24600435]\n",
      " [0.90157263 0.09842737]\n",
      " [0.78946483 0.21053517]\n",
      " [0.88977099 0.11022901]\n",
      " [0.96415897 0.03584103]\n",
      " [0.80928343 0.19071657]\n",
      " [0.85471393 0.14528607]\n",
      " [0.64948692 0.35051308]\n",
      " [0.8580122  0.1419878 ]\n",
      " [0.92125064 0.07874936]\n",
      " [0.80693922 0.19306078]\n",
      " [0.91778804 0.08221196]\n",
      " [0.88549637 0.11450363]\n",
      " [0.72385222 0.27614778]\n",
      " [0.81362723 0.18637277]\n",
      " [0.96389609 0.03610391]\n",
      " [0.86252992 0.13747008]\n",
      " [0.89551324 0.10448676]\n",
      " [0.87733688 0.12266312]\n",
      " [0.80748852 0.19251148]\n",
      " [0.88492421 0.11507579]\n",
      " [0.83386626 0.16613374]\n",
      " [0.83234819 0.16765181]\n",
      " [0.81897153 0.18102847]\n",
      " [0.93759994 0.06240006]\n",
      " [0.8236969  0.1763031 ]\n",
      " [0.79658165 0.20341835]\n",
      " [0.67946652 0.32053348]\n",
      " [0.87285961 0.12714039]\n",
      " [0.8479413  0.1520587 ]\n",
      " [0.85422585 0.14577415]\n",
      " [0.86618985 0.13381015]\n",
      " [0.88864469 0.11135531]\n",
      " [0.82206366 0.17793634]\n",
      " [0.7493909  0.2506091 ]\n",
      " [0.93628427 0.06371573]\n",
      " [0.95576752 0.04423248]\n",
      " [0.89418227 0.10581773]\n",
      " [0.87933685 0.12066315]\n",
      " [0.84201864 0.15798136]\n",
      " [0.78281108 0.21718892]\n",
      " [0.70903196 0.29096804]\n",
      " [0.93066483 0.06933517]\n",
      " [0.6439299  0.3560701 ]\n",
      " [0.77459283 0.22540717]\n",
      " [0.94050437 0.05949563]\n",
      " [0.82120539 0.17879461]\n",
      " [0.92539129 0.07460871]\n",
      " [0.80923635 0.19076365]\n",
      " [0.88589737 0.11410263]\n",
      " [0.85266445 0.14733555]\n",
      " [0.69598628 0.30401372]\n",
      " [0.92761686 0.07238314]\n",
      " [0.89391293 0.10608707]]\n"
     ]
    }
   ],
   "source": [
    "probs = model2.predict_proba(X_test)\n",
    "print(probs)"
   ]
  },
  {
   "cell_type": "code",
   "execution_count": 152,
   "metadata": {},
   "outputs": [
    {
     "name": "stdout",
     "output_type": "stream",
     "text": [
      "0.8412698412698413\n",
      "0.6583365421640355\n",
      "[[371   0]\n",
      " [ 70   0]]\n",
      "              precision    recall  f1-score   support\n",
      "\n",
      "         0.0       0.84      1.00      0.91       371\n",
      "         1.0       0.00      0.00      0.00        70\n",
      "\n",
      "    accuracy                           0.84       441\n",
      "   macro avg       0.42      0.50      0.46       441\n",
      "weighted avg       0.71      0.84      0.77       441\n",
      "\n"
     ]
    },
    {
     "name": "stderr",
     "output_type": "stream",
     "text": [
      "/usr/local/lib/python3.7/site-packages/sklearn/metrics/_classification.py:1272: UndefinedMetricWarning: Precision and F-score are ill-defined and being set to 0.0 in labels with no predicted samples. Use `zero_division` parameter to control this behavior.\n",
      "  _warn_prf(average, modifier, msg_start, len(result))\n"
     ]
    }
   ],
   "source": [
    "#metrics\n",
    "from sklearn import metrics\n",
    "print(metrics.accuracy_score(y_test,predicted))\n",
    "print(metrics.roc_auc_score(y_test,probs[:,1]))\n",
    "print(metrics.confusion_matrix(y_test,predicted))\n",
    "print(metrics.classification_report(y_test,predicted))"
   ]
  },
  {
   "cell_type": "code",
   "execution_count": 153,
   "metadata": {},
   "outputs": [
    {
     "name": "stdout",
     "output_type": "stream",
     "text": [
      "      Intercept   Age  Department  DistanceFromHome  Education  \\\n",
      "338         1.0  30.0         2.0               5.0        3.0   \n",
      "363         1.0  33.0         2.0               5.0        3.0   \n",
      "759         1.0  45.0         3.0              24.0        4.0   \n",
      "793         1.0  28.0         1.0              15.0        2.0   \n",
      "581         1.0  30.0         1.0               1.0        3.0   \n",
      "...         ...   ...         ...               ...        ...   \n",
      "763         1.0  34.0         2.0              10.0        4.0   \n",
      "835         1.0  35.0         3.0               8.0        4.0   \n",
      "1216        1.0  43.0         2.0               2.0        3.0   \n",
      "559         1.0  38.0         1.0               2.0        5.0   \n",
      "684         1.0  40.0         2.0              10.0        4.0   \n",
      "\n",
      "      EducationField  YearsAtCompany  \n",
      "338              2.0            10.0  \n",
      "363              2.0             1.0  \n",
      "759              3.0             6.0  \n",
      "793              1.0             4.0  \n",
      "581              1.0             2.0  \n",
      "...              ...             ...  \n",
      "763              1.0             1.0  \n",
      "835              5.0             5.0  \n",
      "1216             3.0            10.0  \n",
      "559              3.0             1.0  \n",
      "684              2.0             1.0  \n",
      "\n",
      "[1029 rows x 7 columns]\n"
     ]
    }
   ],
   "source": [
    "print(X_train)"
   ]
  },
  {
   "cell_type": "code",
   "execution_count": 154,
   "metadata": {},
   "outputs": [
    {
     "name": "stdout",
     "output_type": "stream",
     "text": [
      "[[1.99194554e-06 9.99998008e-01]]\n"
     ]
    }
   ],
   "source": [
    "#add random values to KK according to the parameters mentioned above to check the proabily of attrition of the employee\n",
    "kk=[[1.0, 23.0, 1.0, 500.0, 3.0, 24.0, 1.0]]\n",
    "print(model.predict_proba(kk))"
   ]
  },
  {
   "cell_type": "code",
   "execution_count": null,
   "metadata": {},
   "outputs": [],
   "source": []
  }
 ],
 "metadata": {
  "kernelspec": {
   "display_name": "Python 3",
   "language": "python",
   "name": "python3"
  },
  "language_info": {
   "codemirror_mode": {
    "name": "ipython",
    "version": 3
   },
   "file_extension": ".py",
   "mimetype": "text/x-python",
   "name": "python",
   "nbconvert_exporter": "python",
   "pygments_lexer": "ipython3",
   "version": "3.7.6"
  }
 },
 "nbformat": 4,
 "nbformat_minor": 4
}
